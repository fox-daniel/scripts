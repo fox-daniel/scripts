{
 "cells": [
  {
   "cell_type": "code",
   "execution_count": 3,
   "metadata": {},
   "outputs": [],
   "source": [
    "import numpy as np\n",
    "import pandas as pd"
   ]
  },
  {
   "cell_type": "code",
   "execution_count": 4,
   "metadata": {},
   "outputs": [],
   "source": [
    "data = pd.DataFrame({'A':pd.Series([i for i in range(20)]), 'B':pd.Series([i**2 for i in range(20)])})"
   ]
  },
  {
   "cell_type": "code",
   "execution_count": 5,
   "metadata": {},
   "outputs": [
    {
     "data": {
      "text/html": [
       "<div>\n",
       "<style scoped>\n",
       "    .dataframe tbody tr th:only-of-type {\n",
       "        vertical-align: middle;\n",
       "    }\n",
       "\n",
       "    .dataframe tbody tr th {\n",
       "        vertical-align: top;\n",
       "    }\n",
       "\n",
       "    .dataframe thead th {\n",
       "        text-align: right;\n",
       "    }\n",
       "</style>\n",
       "<table border=\"1\" class=\"dataframe\">\n",
       "  <thead>\n",
       "    <tr style=\"text-align: right;\">\n",
       "      <th></th>\n",
       "      <th>A</th>\n",
       "      <th>B</th>\n",
       "    </tr>\n",
       "  </thead>\n",
       "  <tbody>\n",
       "    <tr>\n",
       "      <th>0</th>\n",
       "      <td>0</td>\n",
       "      <td>0</td>\n",
       "    </tr>\n",
       "    <tr>\n",
       "      <th>1</th>\n",
       "      <td>1</td>\n",
       "      <td>1</td>\n",
       "    </tr>\n",
       "    <tr>\n",
       "      <th>2</th>\n",
       "      <td>2</td>\n",
       "      <td>4</td>\n",
       "    </tr>\n",
       "    <tr>\n",
       "      <th>3</th>\n",
       "      <td>3</td>\n",
       "      <td>9</td>\n",
       "    </tr>\n",
       "    <tr>\n",
       "      <th>4</th>\n",
       "      <td>4</td>\n",
       "      <td>16</td>\n",
       "    </tr>\n",
       "  </tbody>\n",
       "</table>\n",
       "</div>"
      ],
      "text/plain": [
       "   A   B\n",
       "0  0   0\n",
       "1  1   1\n",
       "2  2   4\n",
       "3  3   9\n",
       "4  4  16"
      ]
     },
     "execution_count": 5,
     "metadata": {},
     "output_type": "execute_result"
    }
   ],
   "source": [
    "data.head()"
   ]
  },
  {
   "cell_type": "code",
   "execution_count": 13,
   "metadata": {},
   "outputs": [],
   "source": [
    "class NestedSubsets():\n",
    "    \"\"\"Generate nested subsets of a data set.\n",
    "    Input: a pd.DataFrame, an optional step_size, and an optional percentage.\n",
    "    Step_size overrides percentage.\n",
    "    \n",
    "    Output: an iterator whose elements are nested subsets of the input, \n",
    "    decreasing in size. The decrease in size is step_size or the \n",
    "    prescribed percentage of the input.\"\"\"\n",
    "    def __init__(self, data, step_size = None, percentage = 0.1):\n",
    "        self.sample = data.sample(data.shape[0]) # full data set\n",
    "        self.step_size = int(percentage * data.shape[0])\n",
    "        if step_size: self.step_size = step_size # minium subsample size\n",
    "        self.remainder_size = self.sample.shape[0] % self.step_size # remainder subset\n",
    "        self.sample_size = self.sample.shape[0] # initial subsample size\n",
    "\n",
    "    def __iter__(self):\n",
    "        return self\n",
    "    \n",
    "    def __next__(self):\n",
    "        if self.sample_size == 0:\n",
    "            raise StopIteration\n",
    "        current_sample = self.sample # update the subsample to output\n",
    "        self.sample_size = max(self.sample_size-self.step_size,0) # new subsample size\n",
    "        self.sample = self.sample.sample(self.sample_size)\n",
    "        return current_sample\n",
    "\n",
    "    def get_step_size(self):\n",
    "        return self.step_size"
   ]
  },
  {
   "cell_type": "code",
   "execution_count": 14,
   "metadata": {},
   "outputs": [],
   "source": [
    "subs = NestedSubsets(data, 7, percentage = .4)"
   ]
  },
  {
   "cell_type": "code",
   "execution_count": 15,
   "metadata": {},
   "outputs": [
    {
     "name": "stdout",
     "output_type": "stream",
     "text": [
      "     A    B\n",
      "19  19  361\n",
      "2    2    4\n",
      "     A    B\n",
      "15  15  225\n",
      "12  12  144\n",
      "   A   B\n",
      "6  6  36\n",
      "8  8  64\n"
     ]
    }
   ],
   "source": [
    "for subsets in subs:\n",
    "    print(subsets.head(2))"
   ]
  },
  {
   "cell_type": "markdown",
   "metadata": {},
   "source": [
    "The code to turn into a script:"
   ]
  },
  {
   "cell_type": "code",
   "execution_count": 16,
   "metadata": {},
   "outputs": [],
   "source": [
    "import numpy as np\n",
    "import pandas as pd\n",
    "\n",
    "class NestedSubsets():\n",
    "    \"\"\"Generate nested subsets of a data set.\n",
    "    Input: a pd.DataFrame, an optional step_size, and an optional percentage.\n",
    "    Step_size overrides percentage.\n",
    "    \n",
    "    Output: an iterator whose elements are nested subsets of the input, \n",
    "    decreasing in size. The decrease in size is step_size or the \n",
    "    prescribed percentage of the input.\"\"\"\n",
    "    def __init__(self, data, step_size = None, percentage = 0.1):\n",
    "        self.sample = data.sample(data.shape[0]) # full data set\n",
    "        self.step_size = int(percentage * data.shape[0])\n",
    "        if step_size: self.step_size = step_size # minium subsample size\n",
    "        self.remainder_size = self.sample.shape[0] % self.step_size # remainder subset\n",
    "        self.sample_size = self.sample.shape[0] # initial subsample size\n",
    "\n",
    "    def __iter__(self):\n",
    "        return self\n",
    "    \n",
    "    def __next__(self):\n",
    "        if self.sample_size == 0:\n",
    "            raise StopIteration\n",
    "        current_sample = self.sample # update the subsample to output\n",
    "        self.sample_size = max(self.sample_size-self.step_size,0) # new subsample size\n",
    "        self.sample = self.sample.sample(self.sample_size)\n",
    "        return current_sample\n",
    "\n",
    "    def get_step_size(self):\n",
    "        return self.step_size"
   ]
  },
  {
   "cell_type": "code",
   "execution_count": 17,
   "metadata": {},
   "outputs": [],
   "source": [
    "subs = NestedSubsets(data)"
   ]
  },
  {
   "cell_type": "code",
   "execution_count": 18,
   "metadata": {},
   "outputs": [
    {
     "data": {
      "text/plain": [
       "2"
      ]
     },
     "execution_count": 18,
     "metadata": {},
     "output_type": "execute_result"
    }
   ],
   "source": [
    "subs.get_step_size()"
   ]
  },
  {
   "cell_type": "code",
   "execution_count": null,
   "metadata": {},
   "outputs": [],
   "source": []
  }
 ],
 "metadata": {
  "kernelspec": {
   "display_name": "Python 3",
   "language": "python",
   "name": "python3"
  },
  "language_info": {
   "codemirror_mode": {
    "name": "ipython",
    "version": 3
   },
   "file_extension": ".py",
   "mimetype": "text/x-python",
   "name": "python",
   "nbconvert_exporter": "python",
   "pygments_lexer": "ipython3",
   "version": "3.7.3"
  }
 },
 "nbformat": 4,
 "nbformat_minor": 4
}
